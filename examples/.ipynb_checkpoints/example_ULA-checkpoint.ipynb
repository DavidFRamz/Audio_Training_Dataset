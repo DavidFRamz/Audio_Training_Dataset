{
 "cells": [
  {
   "cell_type": "markdown",
   "id": "fea5741c",
   "metadata": {},
   "source": [
    "# &#9989; Import modules"
   ]
  },
  {
   "cell_type": "code",
   "execution_count": 2,
   "id": "54718cc5",
   "metadata": {},
   "outputs": [],
   "source": [
    "import numpy as np\n",
    "import matplotlib.pyplot as plt\n",
    "import scipy.io\n",
    "from scipy.io import wavfile\n",
    "import IPython\n",
    "import dataSetAudio as dsa"
   ]
  },
  {
   "cell_type": "markdown",
   "id": "ecbebfca",
   "metadata": {},
   "source": [
    "## &#128221;&#127911; Set some parameters and get the audio file"
   ]
  },
  {
   "cell_type": "code",
   "execution_count": 4,
   "id": "9c691390",
   "metadata": {},
   "outputs": [],
   "source": [
    "#number of chanels/mics in the array\n",
    "M = 8\n",
    "# voice data and sampling frequency\n",
    "fs, data = wavfile.read('../AMI/amicorpus/ES2004a/audio/ES2004a.Array2-02.wav')"
   ]
  },
  {
   "cell_type": "markdown",
   "id": "806b4efe",
   "metadata": {},
   "source": [
    "## &#128640; Create audio training dataset"
   ]
  },
  {
   "cell_type": "code",
   "execution_count": 6,
   "id": "b22f10fc",
   "metadata": {},
   "outputs": [],
   "source": [
    "# Create object:\n",
    "num = 150\n",
    "doa = np.random.randint(-90,90,num)\n",
    "rev = [0.25,0.3,0.22]\n",
    "snr = [0,5.,10]\n",
    "dist = np.random.random(num)*1.5+1.5\n",
    "\n",
    "dset = dsa.dataSetAudio(doa,rev,snr,dist)\n",
    "\n",
    "#Create dataset\n",
    "data_segs = (5,6) # once the VAD is done, i take from seg 1 to 2\n",
    "dset.SimuData(\"datasetULA.csv\",data,fs,M,array_mic='ULA',length=data_segs)"
   ]
  },
  {
   "cell_type": "markdown",
   "id": "fd204d82",
   "metadata": {},
   "source": [
    "## &#127912; Plotting the training dataset"
   ]
  },
  {
   "cell_type": "code",
   "execution_count": 7,
   "id": "3e91d06e",
   "metadata": {},
   "outputs": [
    {
     "data": {
      "image/png": "[encoded data removed]",
      "text/plain": [
       "<Figure size 640x480 with 1 Axes>"
      ]
     },
     "metadata": {},
     "output_type": "display_data"
    }
   ],
   "source": [
    "f = open(\"datasetULA.csv\",\"r\")\n",
    "dists = []\n",
    "doas = []\n",
    "for line in iter(lambda: f.readline(), ''):\n",
    "    separar = line.split(',')\n",
    "    doas.append(float(separar[0]))\n",
    "    dists.append(float(separar[1]))\n",
    "f.close()\n",
    "doas = (90-np.asarray(doas))/180*np.pi\n",
    "locs = []\n",
    "for i,j in zip(doas, dists):\n",
    "    locs.append((j*np.cos(i),j*np.sin(i)))\n",
    "locs=np.array(locs)+5\n",
    "fig = plt.figure()\n",
    "plt.plot(5,5,'rs',locs[:,0],locs[:,1],'b.')\n",
    "plt.axis([0,10,0,10])\n",
    "plt.ylabel(\"Largo [m]\")\n",
    "plt.xlabel(\"Ancho [m]\")\n",
    "plt.grid(True)"
   ]
  },
  {
   "cell_type": "code",
   "execution_count": null,
   "id": "e7e08bf3",
   "metadata": {},
   "outputs": [],
   "source": []
  }
 ],
 "metadata": {
  "kernelspec": {
   "display_name": "Python 3 (ipykernel)",
   "language": "python",
   "name": "python3"
  },
  "language_info": {
   "codemirror_mode": {
    "name": "ipython",
    "version": 3
   },
   "file_extension": ".py",
   "mimetype": "text/x-python",
   "name": "python",
   "nbconvert_exporter": "python",
   "pygments_lexer": "ipython3",
   "version": "3.9.13"
  }
 },
 "nbformat": 4,
 "nbformat_minor": 5
}
